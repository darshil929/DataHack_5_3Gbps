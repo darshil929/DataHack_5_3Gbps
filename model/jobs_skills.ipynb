{
 "cells": [
  {
   "cell_type": "code",
   "execution_count": 2,
   "metadata": {},
   "outputs": [
    {
     "name": "stderr",
     "output_type": "stream",
     "text": [
      "c:\\Users\\Admin\\AppData\\Local\\Programs\\Python\\Python311\\Lib\\site-packages\\numpy\\core\\fromnumeric.py:3464: RuntimeWarning: Mean of empty slice.\n",
      "  return _methods._mean(a, axis=axis, dtype=dtype,\n",
      "c:\\Users\\Admin\\AppData\\Local\\Programs\\Python\\Python311\\Lib\\site-packages\\numpy\\core\\_methods.py:192: RuntimeWarning: invalid value encountered in scalar divide\n",
      "  ret = ret.dtype.type(ret / rcount)\n"
     ]
    },
    {
     "name": "stdout",
     "output_type": "stream",
     "text": [
      "Top 5 recommended skills to improve the user's resume for the job description are: ['IT', 'Cloud', 'Computer', 'Machine', 'Data']\n"
     ]
    }
   ],
   "source": [
    "import pandas as pd\n",
    "import numpy as np\n",
    "from sklearn.feature_extraction.text import CountVectorizer\n",
    "from sklearn.metrics.pairwise import cosine_similarity\n",
    "import spacy\n",
    "import pickle  # Import the pickle module\n",
    "\n",
    "# Load the spaCy model for NLP\n",
    "nlp = spacy.load(\"en_core_web_sm\")\n",
    "\n",
    "df = pd.read_csv(\"./datasets/naukri_data_science_jobs_india (2).csv\")\n",
    "\n",
    "df['all_skills'] = df[['skills', 'skills2', 'skills3', 'skills4', 'skills5', 'skills6', 'skills7', 'skills8']].apply(lambda x: ' '.join(x.dropna()), axis=1)\n",
    "\n",
    "cv = CountVectorizer(max_features=10000, stop_words='english')\n",
    "skill_matrix = cv.fit_transform(df['all_skills']).toarray()\n",
    "\n",
    "cosine_sim_skills = cosine_similarity(skill_matrix)\n",
    "\n",
    "def recommend_skills(job_description, user_skills):\n",
    "    job_titles = []\n",
    "    doc = nlp(job_description)\n",
    "    for ent in doc.ents:\n",
    "        if ent.label_ == \"JOB_TITLE\":\n",
    "            job_titles.append(ent.text)\n",
    "\n",
    "    skills_similarity = cosine_similarity(cv.transform([job_description]).toarray(), skill_matrix).flatten()\n",
    "    \n",
    "    job_title_similarity = np.array([np.mean([1 if title in df['Job-Title'].iloc[i] else 0 for title in job_titles]) for i in range(len(df))])\n",
    "\n",
    "    combined_similarity = 0.7 * skills_similarity + 0.3 * job_title_similarity\n",
    "\n",
    "    sim_scores = list(enumerate(combined_similarity))\n",
    "    sim_scores = sorted(sim_scores, key=lambda x: x[1], reverse=True)\n",
    "\n",
    "    similar_jobs = sim_scores[1:6]\n",
    "\n",
    "    recommended_skills = []\n",
    "    for idx, _ in similar_jobs:\n",
    "        recommended_skills.extend(df['all_skills'].iloc[idx].split())\n",
    "\n",
    "    missing_skills = list(set(recommended_skills) - set(user_skills))\n",
    "    \n",
    "    # Sort the missing skills by their similarity to the job description\n",
    "    missing_skills_similarity = [combined_similarity[df.index[df['all_skills'].str.contains(skill)].tolist()[0]] for skill in missing_skills]\n",
    "    top_missing_skills = [skill for _, skill in sorted(zip(missing_skills_similarity, missing_skills), reverse=True)][:5]\n",
    "\n",
    "    return top_missing_skills\n",
    "\n",
    "# Sample user skills and job description\n",
    "user_skills = [\"java\", \"C++\", \"Web Development\"]\n",
    "job_description = \"This is a job description for a Senior Sofware Developer role. The candidate should have experience in Python, tensorflow, Big Data Analytics, java & other such expertise. The candidate should have good communication skills, along with sufficient management abilities\"\n",
    "top_missing_skills = recommend_skills(job_description, user_skills)\n",
    "\n",
    "print(\"Top 5 recommended skills to improve the user's resume for the job description are:\", top_missing_skills)\n",
    "\n",
    "# Save the model to a pickle file\n",
    "with open('job_recommendation_model.pkl', 'wb') as file:\n",
    "    pickle.dump(recommend_skills, file)\n",
    "\n",
    "# Load the model from the pickle file\n",
    "with open('job_recommendation_model.pkl', 'rb') as file:\n",
    "    loaded_model = pickle.load(file)\n",
    "\n",
    "# You can now use the loaded_model to make recommendations\n",
    "user_skills = [\"java\", \"C++\", \"Web Development\"]\n",
    "job_description = \"Another job description...\"\n",
    "top_missing_skills = loaded_model(job_description, user_skills)\n",
    "print(\"Top 5 recommended skills:\", top_missing_skills)\n"
   ]
  },
  {
   "cell_type": "code",
   "execution_count": null,
   "metadata": {},
   "outputs": [],
   "source": []
  }
 ],
 "metadata": {
  "kernelspec": {
   "display_name": "Python 3",
   "language": "python",
   "name": "python3"
  },
  "language_info": {
   "codemirror_mode": {
    "name": "ipython",
    "version": 3
   },
   "file_extension": ".py",
   "mimetype": "text/x-python",
   "name": "python",
   "nbconvert_exporter": "python",
   "pygments_lexer": "ipython3",
   "version": "3.11.3"
  }
 },
 "nbformat": 4,
 "nbformat_minor": 2
}
